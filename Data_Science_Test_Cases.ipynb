{
  "nbformat": 4,
  "nbformat_minor": 0,
  "metadata": {
    "colab": {
      "name": "Data Science Test Cases",
      "provenance": [],
      "authorship_tag": "ABX9TyMLODlIhxZpJm6ccD358nH1",
      "include_colab_link": true
    },
    "kernelspec": {
      "name": "python3",
      "display_name": "Python 3"
    }
  },
  "cells": [
    {
      "cell_type": "markdown",
      "metadata": {
        "id": "view-in-github",
        "colab_type": "text"
      },
      "source": [
        "<a href=\"https://colab.research.google.com/github/gayathry2612/experiments/blob/master/Data_Science_Test_Cases.ipynb\" target=\"_parent\"><img src=\"https://colab.research.google.com/assets/colab-badge.svg\" alt=\"Open In Colab\"/></a>"
      ]
    },
    {
      "cell_type": "code",
      "metadata": {
        "id": "7yi3UbM5zuFw"
      },
      "source": [
        ""
      ],
      "execution_count": null,
      "outputs": []
    },
    {
      "cell_type": "markdown",
      "metadata": {
        "id": "HtzQbaF1zy61"
      },
      "source": [
        "# TESTING : Topics to cover\n",
        "\n",
        "[How to do testing in Data Science? ](https://towardsdatascience.com/unit-testing-for-data-scientists-dc5e0cd397fb)\n",
        "\n",
        "* As Data Science becomes more of a staple in large organizations, the need for proper testing of code slowly becomes more integrated into the skillset of a Data Scientist.\n",
        "\n",
        "* Imagine you have been creating a pipeline for predicting customer churn in your organization. A few months after deploying your solution, there are new variables that might improve its performance.\n",
        "\n",
        "\n",
        "* Unfortunately, after adding those variables, the code suddenly stops working! You are not familiar with the error message and you are having trouble finding your mistake. This is where testing, and specifically unit testing, comes in!\n",
        "\n",
        "* Writing tests for specific modules improves the stability of your code and makes mistakes easier to spot. Especially when working on large projects, having proper tests is essentially a basic need."
      ]
    },
    {
      "cell_type": "markdown",
      "metadata": {
        "id": "7-NGqIXV0x2u"
      },
      "source": [
        "# Why would you test your code?\n",
        "Although this seems like a no-brainer, there are actually many reasons for testing your code:\n",
        "* Prevent unexpected output\n",
        "* Simplifies updating code\n",
        "* Increases overall efficiency of developing code\n",
        "* Helps to detect edge cases\n",
        "* And most importantly prevents you from pushing any broken code into production!\n",
        "\n",
        "And more reasons : \n",
        "\n",
        "Even for those who do write production code, it is important to write tests for at least the most important modules of their code.\n",
        "\n",
        "# `What if you run a deep learning pipeline and fails after 3 hours on something you could have easily tested?`\n",
        "\n",
        "Lets see how to do basic unittesting in Data Science pipelines. "
      ]
    },
    {
      "cell_type": "code",
      "metadata": {
        "id": "3u9Jm_5Q1XHY"
      },
      "source": [
        ""
      ],
      "execution_count": null,
      "outputs": []
    }
  ]
}